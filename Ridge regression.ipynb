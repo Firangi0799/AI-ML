{
 "cells": [
  {
   "cell_type": "markdown",
   "id": "14b6c20c-6a69-4f50-b8a8-b20fcdeca9d4",
   "metadata": {},
   "source": [
    "<h2>Ridge Regression using SK-Learn</h1>"
   ]
  },
  {
   "cell_type": "code",
   "execution_count": 1,
   "id": "101fdd0a-dcdb-4377-8392-bc2b220a14ef",
   "metadata": {},
   "outputs": [],
   "source": [
    "import pandas as pd\n",
    "from sklearn.linear_model import Ridge\n",
    "from sklearn.metrics import mean_squared_error\n",
    "from sklearn.model_selection import train_test_split\n",
    "from sklearn.preprocessing import PolynomialFeatures\n",
    "from sklearn.pipeline import make_pipeline"
   ]
  },
  {
   "cell_type": "code",
   "execution_count": 2,
   "id": "7880f296-fd30-4891-b60d-08af0cc1a447",
   "metadata": {},
   "outputs": [],
   "source": [
    "data = pd.DataFrame({'X': [1, 2, 3, 4, 5, 6, 7, 8, 9, 10],\n",
    "                     'Y': [3, 5, 7, 9, 11, 13, 15, 17, 19, 21]})"
   ]
  },
  {
   "cell_type": "code",
   "execution_count": 3,
   "id": "bf0ce5cf-0678-4550-bdc2-70037171ef2a",
   "metadata": {},
   "outputs": [],
   "source": [
    "X_train, X_test, y_train, y_test = train_test_split(data['X'].values.reshape(-1, 1),\n",
    "                                                    data['Y'],\n",
    "                                                    test_size=0.2,\n",
    "                                                    random_state=42)"
   ]
  },
  {
   "cell_type": "code",
   "execution_count": 4,
   "id": "fae81220-6ea8-4d40-839a-5b7acdb601a6",
   "metadata": {},
   "outputs": [],
   "source": [
    "alpha = 0.5\n",
    "ridge_model = make_pipeline(PolynomialFeatures(degree=1), Ridge(alpha=alpha))"
   ]
  },
  {
   "cell_type": "code",
   "execution_count": 5,
   "id": "a0e1c31c-70ac-4aa0-903f-ed0f698bf9bd",
   "metadata": {},
   "outputs": [
    {
     "data": {
      "text/plain": [
       "Pipeline(steps=[('polynomialfeatures', PolynomialFeatures(degree=1)),\n",
       "                ('ridge', Ridge(alpha=0.5))])"
      ]
     },
     "execution_count": 5,
     "metadata": {},
     "output_type": "execute_result"
    }
   ],
   "source": [
    "ridge_model.fit(X_train, y_train)"
   ]
  },
  {
   "cell_type": "code",
   "execution_count": 6,
   "id": "5e12865e-b693-4baa-9b87-d5a43c2148e1",
   "metadata": {},
   "outputs": [],
   "source": [
    "y_pred = ridge_model.predict(X_test)"
   ]
  },
  {
   "cell_type": "code",
   "execution_count": 7,
   "id": "cbf054fe-b830-46fd-b1b8-4862f18efe29",
   "metadata": {},
   "outputs": [
    {
     "name": "stdout",
     "output_type": "stream",
     "text": [
      "Mean Squared Error: 0.003579516400029514\n"
     ]
    }
   ],
   "source": [
    "mse = mean_squared_error(y_test, y_pred)\n",
    "print(f\"Mean Squared Error: {mse}\")"
   ]
  },
  {
   "cell_type": "code",
   "execution_count": 8,
   "id": "9e20c5fa-7203-485d-91e2-2a1a1a06f298",
   "metadata": {},
   "outputs": [
    {
     "name": "stdout",
     "output_type": "stream",
     "text": [
      "Coefficients: [0.         1.98290598]\n",
      "Intercept: 1.0940170940170955\n"
     ]
    }
   ],
   "source": [
    "coefficients = ridge_model.named_steps['ridge'].coef_\n",
    "intercept = ridge_model.named_steps['ridge'].intercept_\n",
    "print(\"Coefficients:\", coefficients)\n",
    "print(\"Intercept:\", intercept)"
   ]
  },
  {
   "cell_type": "code",
   "execution_count": 9,
   "id": "53e1f3ba-bb33-467c-9e70-0a0c90de8fcb",
   "metadata": {},
   "outputs": [],
   "source": [
    "new_data = pd.DataFrame({'X': [11, 12, 13]})\n",
    "X_new = new_data['X'].values.reshape(-1, 1)\n",
    "y_new_pred = ridge_model.predict(X_new)"
   ]
  },
  {
   "cell_type": "code",
   "execution_count": 10,
   "id": "ec5e8863-9c91-4d80-a23f-ea6342bcbd6f",
   "metadata": {},
   "outputs": [
    {
     "name": "stdout",
     "output_type": "stream",
     "text": [
      "Predicted values for 11, 12, and 13:\n",
      "X = [11], Predicted Y = 22.905982905982903\n",
      "X = [12], Predicted Y = 24.888888888888886\n",
      "X = [13], Predicted Y = 26.87179487179487\n"
     ]
    }
   ],
   "source": [
    "print(\"Predicted values for 11, 12, and 13:\")\n",
    "for x, y_pred in zip(X_new, y_new_pred):\n",
    "    print(f\"X = {x}, Predicted Y = {y_pred}\")"
   ]
  },
  {
   "cell_type": "code",
   "execution_count": null,
   "id": "515df19e-11b4-421d-9ec6-2290675854cd",
   "metadata": {},
   "outputs": [],
   "source": []
  }
 ],
 "metadata": {
  "kernelspec": {
   "display_name": "Python 3 (ipykernel)",
   "language": "python",
   "name": "python3"
  },
  "language_info": {
   "codemirror_mode": {
    "name": "ipython",
    "version": 3
   },
   "file_extension": ".py",
   "mimetype": "text/x-python",
   "name": "python",
   "nbconvert_exporter": "python",
   "pygments_lexer": "ipython3",
   "version": "3.9.7"
  }
 },
 "nbformat": 4,
 "nbformat_minor": 5
}
