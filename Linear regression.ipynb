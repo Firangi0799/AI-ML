{
 "cells": [
  {
   "cell_type": "code",
   "execution_count": 13,
   "id": "cdc93ff1-043f-44b8-8f43-b6c37768b1cf",
   "metadata": {},
   "outputs": [],
   "source": [
    "import pandas as pd\n",
    "import numpy as np"
   ]
  },
  {
   "cell_type": "code",
   "execution_count": 2,
   "id": "7fffaeb8-0487-429f-b7fc-5cd3573c4f24",
   "metadata": {},
   "outputs": [],
   "source": [
    "df = pd.read_csv('practice.csv')"
   ]
  },
  {
   "cell_type": "markdown",
   "id": "0814a6d2-bee5-449f-b4ab-5b40bfdce38c",
   "metadata": {},
   "source": [
    "<h1>SK-Learn Linear Model</h1>"
   ]
  },
  {
   "cell_type": "markdown",
   "id": "112c0ea2-106e-48f8-8b9b-d79deba56fee",
   "metadata": {},
   "source": [
    "<h2>Importing the model</h2>"
   ]
  },
  {
   "cell_type": "code",
   "execution_count": 3,
   "id": "2fefe675-3d75-41a4-8f17-ca01626d9f27",
   "metadata": {},
   "outputs": [],
   "source": [
    "from sklearn.linear_model import LinearRegression\n",
    "from sklearn.model_selection import train_test_split"
   ]
  },
  {
   "cell_type": "markdown",
   "id": "21c482af-fbd8-4b4e-94cd-2d9afcd1ea01",
   "metadata": {},
   "source": [
    "<h2>The model accepts a 2D array as an independent variable, the dependent one can be a 1D array</h2>"
   ]
  },
  {
   "cell_type": "code",
   "execution_count": 4,
   "id": "4de688b1-a00e-46f2-abee-dc638e2293d1",
   "metadata": {
    "tags": []
   },
   "outputs": [],
   "source": [
    "X = df['X'].values.reshape(-1, 1)"
   ]
  },
  {
   "cell_type": "code",
   "execution_count": 5,
   "id": "a94fa039-a6df-47c9-b176-7c1c1269ab29",
   "metadata": {
    "tags": []
   },
   "outputs": [],
   "source": [
    "Y = df['Y']"
   ]
  },
  {
   "cell_type": "code",
   "execution_count": 6,
   "id": "b919a026-f4c1-4819-8a62-a6e174841fc3",
   "metadata": {},
   "outputs": [],
   "source": [
    "X_train, X_test, Y_train, Y_test = train_test_split(X, Y, test_size=0.2, random_state=42)"
   ]
  },
  {
   "cell_type": "markdown",
   "id": "15c1c1c0-d8ce-4c40-a02e-78c7f8a34a57",
   "metadata": {},
   "source": [
    "<h2>Creating an Instance</h2>"
   ]
  },
  {
   "cell_type": "code",
   "execution_count": 7,
   "id": "434afd75-82c9-449d-a804-37d3dc1170db",
   "metadata": {},
   "outputs": [],
   "source": [
    "model = LinearRegression()"
   ]
  },
  {
   "cell_type": "markdown",
   "id": "40214eb5-cd1a-43f6-89df-7f3934cf64dc",
   "metadata": {},
   "source": [
    "<h2>fitting the training data</h2>"
   ]
  },
  {
   "cell_type": "code",
   "execution_count": 8,
   "id": "cc7486e8-9729-4ae7-9037-9c5a510874e2",
   "metadata": {
    "tags": []
   },
   "outputs": [
    {
     "data": {
      "text/plain": [
       "LinearRegression()"
      ]
     },
     "execution_count": 8,
     "metadata": {},
     "output_type": "execute_result"
    }
   ],
   "source": [
    "model.fit(X_train, Y_train)"
   ]
  },
  {
   "cell_type": "code",
   "execution_count": 9,
   "id": "7bafa396-5dca-47d7-935a-d3cc57712eb8",
   "metadata": {},
   "outputs": [],
   "source": [
    "intercept = model.intercept_\n",
    "slope = model.coef_"
   ]
  },
  {
   "cell_type": "code",
   "execution_count": 10,
   "id": "759c756a-8898-479b-b47f-96d57e351b76",
   "metadata": {
    "tags": []
   },
   "outputs": [
    {
     "name": "stdout",
     "output_type": "stream",
     "text": [
      "Intercept: 0.9999999999999982\n",
      "Slope: [2.]\n"
     ]
    }
   ],
   "source": [
    "print(\"Intercept:\", intercept)\n",
    "print(\"Slope:\", slope)"
   ]
  },
  {
   "cell_type": "markdown",
   "id": "97597494-9df1-4266-a358-8737914c1caf",
   "metadata": {},
   "source": [
    "<h2>Making predictions or providing test data</h2>"
   ]
  },
  {
   "cell_type": "code",
   "execution_count": 11,
   "id": "9dfe4727-28db-4193-a4b1-5d87b2d772d6",
   "metadata": {
    "tags": []
   },
   "outputs": [
    {
     "name": "stdout",
     "output_type": "stream",
     "text": [
      "Predictions: [19.  5.]\n"
     ]
    }
   ],
   "source": [
    "predictions = model.predict(X_test)\n",
    "print(\"Predictions:\", predictions)"
   ]
  },
  {
   "cell_type": "code",
   "execution_count": 14,
   "id": "ca72483f-8555-4e07-9ff7-6893b9fcbc29",
   "metadata": {},
   "outputs": [
    {
     "name": "stdout",
     "output_type": "stream",
     "text": [
      "Mean Squared Error: 3.944304526105059e-31\n"
     ]
    }
   ],
   "source": [
    "mse = np.mean((predictions - Y_test) ** 2)\n",
    "print(\"Mean Squared Error:\", mse)"
   ]
  },
  {
   "cell_type": "code",
   "execution_count": null,
   "id": "7c096699-8ab2-47d5-b92d-759aeede7f86",
   "metadata": {},
   "outputs": [],
   "source": []
  }
 ],
 "metadata": {
  "kernelspec": {
   "display_name": "Python 3 (ipykernel)",
   "language": "python",
   "name": "python3"
  },
  "language_info": {
   "codemirror_mode": {
    "name": "ipython",
    "version": 3
   },
   "file_extension": ".py",
   "mimetype": "text/x-python",
   "name": "python",
   "nbconvert_exporter": "python",
   "pygments_lexer": "ipython3",
   "version": "3.10.2"
  }
 },
 "nbformat": 4,
 "nbformat_minor": 5
}
