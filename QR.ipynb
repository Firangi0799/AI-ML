{
 "cells": [
  {
   "cell_type": "code",
   "execution_count": 2,
   "id": "280b465b-d7c1-46c5-92b5-68d8d4d9eec5",
   "metadata": {
    "tags": []
   },
   "outputs": [],
   "source": [
    "import qrcode"
   ]
  },
  {
   "cell_type": "code",
   "execution_count": 3,
   "id": "334c32f7-ae7e-408c-8f83-686126878071",
   "metadata": {
    "tags": []
   },
   "outputs": [],
   "source": [
    "data = \"https://github.com/Firangi0799\""
   ]
  },
  {
   "cell_type": "code",
   "execution_count": 4,
   "id": "9b33b79b-4fe0-410d-8fc8-535439ff20a5",
   "metadata": {
    "tags": []
   },
   "outputs": [],
   "source": [
    "qr = qrcode.QRCode(\n",
    "    version=1,\n",
    "    error_correction=qrcode.constants.ERROR_CORRECT_L,\n",
    "    box_size=10,\n",
    "    border=4,\n",
    ")"
   ]
  },
  {
   "cell_type": "code",
   "execution_count": 5,
   "id": "1cd93192-33ef-46c7-aa56-cfdb15709c1f",
   "metadata": {
    "tags": []
   },
   "outputs": [],
   "source": [
    "qr.add_data(data)\n",
    "qr.make(fit=True)"
   ]
  },
  {
   "cell_type": "code",
   "execution_count": 6,
   "id": "4a81a872-4a76-438d-81ac-97d43a68edce",
   "metadata": {
    "tags": []
   },
   "outputs": [],
   "source": [
    "qr_image = qr.make_image(fill_color=\"black\", back_color=\"white\")"
   ]
  },
  {
   "cell_type": "code",
   "execution_count": 7,
   "id": "84ab3fe4-9b66-4f12-8884-3dc23e5457ff",
   "metadata": {
    "tags": []
   },
   "outputs": [],
   "source": [
    "qr_image.save(\"qrcode.png\")"
   ]
  },
  {
   "cell_type": "code",
   "execution_count": null,
   "id": "d721c7d2-b832-480d-9840-557552f31dbe",
   "metadata": {},
   "outputs": [],
   "source": []
  }
 ],
 "metadata": {
  "kernelspec": {
   "display_name": "Python 3 (ipykernel)",
   "language": "python",
   "name": "python3"
  },
  "language_info": {
   "codemirror_mode": {
    "name": "ipython",
    "version": 3
   },
   "file_extension": ".py",
   "mimetype": "text/x-python",
   "name": "python",
   "nbconvert_exporter": "python",
   "pygments_lexer": "ipython3",
   "version": "3.10.2"
  }
 },
 "nbformat": 4,
 "nbformat_minor": 5
}
